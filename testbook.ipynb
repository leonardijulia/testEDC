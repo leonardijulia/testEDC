{
 "cells": [
  {
   "cell_type": "code",
   "execution_count": 1,
   "id": "70aa2693-9494-444b-b4f7-d5bf115c1259",
   "metadata": {},
   "outputs": [],
   "source": [
    "# EDC libraries\n",
    "from edc import setup_environment_variables\n",
    "\n",
    "# Utilities\n",
    "import os\n",
    "import warnings\n",
    "import numpy as np\n",
    "import matplotlib.pyplot as plt\n",
    "from datetime import datetime, timedelta\n",
    "from matplotlib.colors import ListedColormap, BoundaryNorm\n",
    "from mpl_toolkits.axes_grid1 import make_axes_locatable\n",
    "\n",
    "# eo-learn\n",
    "from eolearn.core import (LoadTask, SaveTask, EONode, EOWorkflow, FeatureType, EOPatch, \n",
    "                          linearly_connect_tasks, ZipFeatureTask, OutputTask)\n",
    "from eolearn.io import SentinelHubInputTask\n",
    "from eolearn.features import (AddSpatioTemporalFeaturesTask, AddMaxMinTemporalIndicesTask, \n",
    "                              AddMaxMinNDVISlopeIndicesTask, NormalizedDifferenceIndexTask)\n",
    "from eolearn.features.interpolation import LinearInterpolationTask\n"
   ]
  },
  {
   "cell_type": "code",
   "execution_count": null,
   "id": "35c8cf15-766e-4118-9cb8-b95c61f49d3b",
   "metadata": {},
   "outputs": [],
   "source": []
  }
 ],
 "metadata": {
  "kernelspec": {
   "display_name": "Python [conda env:edc-default-2022.07-00]",
   "language": "python",
   "name": "conda-env-edc-default-2022.07-00-py"
  },
  "language_info": {
   "codemirror_mode": {
    "name": "ipython",
    "version": 3
   },
   "file_extension": ".py",
   "mimetype": "text/x-python",
   "name": "python",
   "nbconvert_exporter": "python",
   "pygments_lexer": "ipython3",
   "version": "3.9.13"
  }
 },
 "nbformat": 4,
 "nbformat_minor": 5
}
